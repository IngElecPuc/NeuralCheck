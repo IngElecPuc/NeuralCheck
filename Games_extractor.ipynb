{
 "cells": [
  {
   "cell_type": "code",
   "execution_count": 1,
   "id": "82a86db6-33ed-48f9-b042-a2f5d5b00af2",
   "metadata": {},
   "outputs": [],
   "source": [
    "#!pip install chess"
   ]
  },
  {
   "cell_type": "code",
   "execution_count": null,
   "id": "9b59fe19-cd1c-4ffe-a169-c6230a4dbe8a",
   "metadata": {},
   "outputs": [],
   "source": [
    "import tkinter as tk\n",
    "from tkinter import filedialog\n",
    "\n",
    "def seleccionar_archivo():\n",
    "    root = tk.Tk()\n",
    "    root.withdraw()  #Oculta la ventana principal de Tkinter\n",
    "    \n",
    "    archivo = filedialog.askopenfilename(\n",
    "        initialdir=\"E:/Felpipe/Escritorio\",  \n",
    "        title=\"Selecciona el archivo PGN\",\n",
    "        filetypes=((\"Archivos PGN\", \"*.pgn\"), (\"Todos los archivos\", \"*.*\"))\n",
    "    )\n",
    "    \n",
    "    if archivo:\n",
    "        return archivo\n",
    "    else:\n",
    "        return None\n",
    "\n",
    "archivo_seleccionado = seleccionar_archivo()\n",
    "print(archivo_seleccionado)"
   ]
  },
  {
   "cell_type": "code",
   "execution_count": 2,
   "id": "a9e51d7c-3918-4e66-ae00-13ffd13adef5",
   "metadata": {},
   "outputs": [
    {
     "name": "stdout",
     "output_type": "stream",
     "text": [
      "Archivo encontrado: E:\\Felpipe\\Escritorio\\ficsgamesdb_202401_chess_movetimes_405219.pgn\n"
     ]
    }
   ],
   "source": [
    "import os\n",
    "\n",
    "desktop_path = \"E:\\\\Felpipe\\\\Escritorio\" \n",
    "file_name = \"ficsgamesdb_202401_chess_movetimes_405219.pgn\"\n",
    "\n",
    "def buscar_archivo(ruta, nombre_archivo):\n",
    "    for root, dirs, files in os.walk(ruta):\n",
    "        if nombre_archivo in files:\n",
    "            return os.path.join(root, nombre_archivo)  \n",
    "    return None  \n",
    "\n",
    "archivo_encontrado = buscar_archivo(desktop_path, file_name)\n",
    "\n",
    "if archivo_encontrado:\n",
    "    print(f\"Archivo encontrado: {archivo_encontrado}\")\n",
    "else:\n",
    "    print(\"Archivo NO encontrado.\")"
   ]
  },
  {
   "cell_type": "code",
   "execution_count": 15,
   "id": "ba4a1999-847e-43db-a82a-ab9edf1d2765",
   "metadata": {
    "collapsed": true,
    "jupyter": {
     "outputs_hidden": true
    }
   },
   "outputs": [
    {
     "name": "stdout",
     "output_type": "stream",
     "text": [
      "Encontrada partida 1 de 81\n",
      "Encontrada partida 2 de 81\n",
      "Encontrada partida 3 de 81\n",
      "Encontrada partida 4 de 81\n",
      "Encontrada partida 5 de 81\n",
      "Encontrada partida 6 de 81\n",
      "Encontrada partida 7 de 81\n",
      "Encontrada partida 8 de 81\n",
      "Encontrada partida 9 de 81\n",
      "Encontrada partida 10 de 81\n",
      "Encontrada partida 11 de 81\n",
      "Encontrada partida 12 de 81\n",
      "Encontrada partida 13 de 81\n",
      "Encontrada partida 14 de 81\n",
      "Encontrada partida 15 de 81\n",
      "Encontrada partida 16 de 81\n",
      "Encontrada partida 17 de 81\n",
      "Encontrada partida 18 de 81\n",
      "Encontrada partida 19 de 81\n",
      "Encontrada partida 20 de 81\n",
      "Encontrada partida 21 de 81\n",
      "Encontrada partida 22 de 81\n",
      "Encontrada partida 23 de 81\n",
      "Encontrada partida 24 de 81\n",
      "Encontrada partida 25 de 81\n",
      "Encontrada partida 26 de 81\n",
      "Encontrada partida 27 de 81\n",
      "Encontrada partida 28 de 81\n",
      "Encontrada partida 29 de 81\n",
      "Encontrada partida 30 de 81\n",
      "Encontrada partida 31 de 81\n",
      "Encontrada partida 32 de 81\n",
      "Encontrada partida 33 de 81\n",
      "Encontrada partida 34 de 81\n",
      "Encontrada partida 35 de 81\n",
      "Encontrada partida 36 de 81\n",
      "Encontrada partida 37 de 81\n",
      "Encontrada partida 38 de 81\n",
      "Encontrada partida 39 de 81\n",
      "Encontrada partida 40 de 81\n",
      "Encontrada partida 41 de 81\n",
      "Encontrada partida 42 de 81\n",
      "Encontrada partida 43 de 81\n",
      "Encontrada partida 44 de 81\n",
      "Encontrada partida 45 de 81\n",
      "Encontrada partida 46 de 81\n",
      "Encontrada partida 47 de 81\n",
      "Encontrada partida 48 de 81\n",
      "Encontrada partida 49 de 81\n",
      "Encontrada partida 50 de 81\n",
      "Encontrada partida 51 de 81\n",
      "Encontrada partida 52 de 81\n",
      "Encontrada partida 53 de 81\n",
      "Encontrada partida 54 de 81\n",
      "Encontrada partida 55 de 81\n",
      "Encontrada partida 56 de 81\n",
      "Encontrada partida 57 de 81\n",
      "Encontrada partida 58 de 81\n",
      "Encontrada partida 59 de 81\n",
      "Encontrada partida 60 de 81\n",
      "Encontrada partida 61 de 81\n",
      "Encontrada partida 62 de 81\n",
      "Encontrada partida 63 de 81\n",
      "Encontrada partida 64 de 81\n",
      "Encontrada partida 65 de 81\n",
      "Encontrada partida 66 de 81\n",
      "Encontrada partida 67 de 81\n",
      "Encontrada partida 68 de 81\n",
      "Encontrada partida 69 de 81\n",
      "Encontrada partida 70 de 81\n",
      "Encontrada partida 71 de 81\n",
      "Encontrada partida 72 de 81\n",
      "Encontrada partida 73 de 81\n",
      "Encontrada partida 74 de 81\n",
      "Encontrada partida 75 de 81\n",
      "Encontrada partida 76 de 81\n",
      "Encontrada partida 77 de 81\n",
      "Encontrada partida 78 de 81\n",
      "Encontrada partida 79 de 81\n",
      "Encontrada partida 80 de 81\n",
      "Encontrada partida 81 de 81\n"
     ]
    },
    {
     "data": {
      "text/plain": [
       "{'Apertura Detectada': 'Ataque Indio de Rey',\n",
       " 'Blancas': 'bakkrot',\n",
       " 'Negras': 'scalaQueen',\n",
       " 'Resultado': '1/2-1/2',\n",
       " 'Movimientos': ['Nf3', 'd5', 'g3', 'g6', 'Bg2', 'Bg7']}"
      ]
     },
     "execution_count": 15,
     "metadata": {},
     "output_type": "execute_result"
    }
   ],
   "source": [
    "import chess.pgn\n",
    "from src.neuralcheck.logic import ChessBoard\n",
    "\n",
    "board = ChessBoard()\n",
    "file_path = archivo_encontrado\n",
    "\n",
    "#Definir aperturas populares (primeros 3 turnos)\n",
    "aperturas = {\n",
    "    \"Ruy López\": [\"e4\", \"e5\", \"Nf3\", \"Nc6\", \"Bb5\"],\n",
    "    \"Defensa Siciliana\": [\"e4\", \"c5\", \"Nf3\", \"d6\"],\n",
    "    \"Gambito de Dama\": [\"d4\", \"d5\", \"c4\"],\n",
    "    \"Ataque Indio de Rey\": [\"Nf3\", \"d5\", \"g3\"],\n",
    "    \"Apertura Inglesa\": [\"c4\", \"e5\"],\n",
    "    \"Defensa Francesa\": [\"e4\", \"e6\"],\n",
    "    \"Defensa Caro-Kann\": [\"e4\", \"c6\"],\n",
    "    \"Defensa Grunfeld\": [\"d4\", \"Nf6\", \"c4\", \"g6\", \"Nc3\", \"d5\"],\n",
    "    \"Defensa Nimzoindia\": [\"d4\", \"Nf6\", \"c4\", \"e6\", \"Nc3\", \"Bb4\"]\n",
    "}\n",
    "\n",
    "resultados = {apertura:[] for apertura in aperturas.keys()}\n",
    "partidas = {apertura:[] for apertura in aperturas.keys()}\n",
    "tableros = {apertura:[] for apertura in aperturas.keys()}\n",
    "\n",
    "def extraer_movimientos(partida, cabecera=False):# Función para extraer los primeros 3 turnos de una partida\n",
    "    board = partida.board()\n",
    "    #pdb.set_trace()\n",
    "    movimientos = []\n",
    "    posiciones = [board.fen()]\n",
    "    for i, move in enumerate(partida.mainline_moves()):\n",
    "        if i >= 6 and cabecera:  # Capturar solo los primeros 6 movimientos (3 turnos)\n",
    "            break\n",
    "        movimientos.append(board.san(move))  #Convertir a notación algebraica\n",
    "        board.push(move)\n",
    "        posiciones.append(board.fen())\n",
    "    return movimientos, posiciones\n",
    "\n",
    "def compilar_resultados(resultados, partidas, partida, movimientos, posiciones, tableros):\n",
    "    apertura = partida[\"Apertura Detectada\"]\n",
    "    resultado = partida[\"Resultado\"]\n",
    "    resultado = '0-0' if resultado == '1/2-1/2' else resultado\n",
    "    count01 = 0\n",
    "    count10 = 0\n",
    "    count00 = 0\n",
    "    for elem in resultados[apertura]:\n",
    "        if elem == '0-1':\n",
    "            count01 += 1\n",
    "        if elem == '1-0':\n",
    "            count10 += 1\n",
    "        if elem == '0-0':\n",
    "            count00 += 1\n",
    "\n",
    "    if (count01 < 3 and resultado == '0-1') or (count10 < 3 and resultado == '1-0') or (count00 < 3 and resultado == '0-0'):\n",
    "        resultados[apertura].append(resultado)\n",
    "        partidas[apertura].append(movimientos)\n",
    "        tableros[apertura].append(posiciones)\n",
    "        return True\n",
    "    else:\n",
    "        return False\n",
    "\n",
    "def condicion_termino(resultados): #Al final esto no funciona, corto por lo sano\n",
    "    condicion = True\n",
    "    for apertura in resultados:\n",
    "        count01 = 0\n",
    "        count10 = 0\n",
    "        count00 = 0\n",
    "        for elem in apertura:\n",
    "            if elem == '0-1':\n",
    "                count01 += 1\n",
    "            if elem == '1-0':\n",
    "                count10 += 1\n",
    "            if elem == '0-0':\n",
    "                count00 += 1\n",
    "        condicion = condicion and count01 == 3 and count10 == 3 and count00 == 3\n",
    "    return condicion\n",
    "partida_encontrada = None\n",
    "\n",
    "with open(file_path, \"r\", encoding=\"utf-8\") as pgn_file:\n",
    "    k = 0\n",
    "    while True:\n",
    "        partida = chess.pgn.read_game(pgn_file)\n",
    "        if partida is None:\n",
    "            break  #Fin del archivo\n",
    "        \n",
    "        movs, pos = extraer_movimientos(partida, cabecera=True) #Extraigo los primeros 3 turnos (6 movimientos) como cabecera para clasificar\n",
    "        \n",
    "        for nombre, apertura in aperturas.items(): #Clasifico\n",
    "            if movs[:len(apertura)] == apertura:\n",
    "                partida_encontrada = {\n",
    "                    \"Apertura Detectada\": nombre,\n",
    "                    \"Blancas\": partida.headers.get(\"White\", \"Desconocido\"),\n",
    "                    \"Negras\": partida.headers.get(\"Black\", \"Desconocido\"),\n",
    "                    \"Resultado\": partida.headers.get(\"Result\", \"Desconocido\"),\n",
    "                    \"Movimientos\": movs\n",
    "                }\n",
    "                break  #Detengo búsqueda si encuentro una\n",
    "\n",
    "        if partida_encontrada:\n",
    "            movs, pos = extraer_movimientos(partida)\n",
    "            if compilar_resultados(resultados, partidas, partida_encontrada, movs, pos, tableros):\n",
    "                k += 1\n",
    "                print(f\"Encontrada partida {k} de {len(list(aperturas.keys())) * 9}\")\n",
    "                #if condicion_termino(resultados): No funca\n",
    "                if k == len(list(aperturas.keys())) * 9:\n",
    "                    break  \n",
    "\n",
    "partida_encontrada"
   ]
  },
  {
   "cell_type": "code",
   "execution_count": 16,
   "id": "c6b34736-8a99-4de9-8e59-4861079ee128",
   "metadata": {},
   "outputs": [
    {
     "name": "stdout",
     "output_type": "stream",
     "text": [
      "Encontrada partida 81 de 81\n"
     ]
    }
   ],
   "source": [
    "print(f\"Encontrada partida {k} de {len(list(aperturas.keys())) * 9}\")"
   ]
  },
  {
   "cell_type": "code",
   "execution_count": 17,
   "id": "717680f3-229b-45d2-8ced-27dbad0f64c1",
   "metadata": {},
   "outputs": [],
   "source": [
    "import yaml\n",
    "path = 'test/test_games/'\n",
    "rtypes = ['0-0', '1-0', '0-1']\n",
    "saved = {\n",
    "    apertura : {rtype : 0 for rtype in rtypes}\n",
    "    for apertura in aperturas.keys()\n",
    "}\n",
    "\n",
    "for apertura in aperturas.keys():\n",
    "    for movs, result, pos in zip(partidas[apertura], resultados[apertura], tableros[apertura]):\n",
    "        ordered_movs = []\n",
    "        ordered_pos = []\n",
    "        for i, mov in enumerate(movs):\n",
    "            if i % 2 == 0:\n",
    "                ordered_movs.append([mov])\n",
    "            else:\n",
    "                ordered_movs[-1].append(mov)\n",
    "        for i, p in enumerate(pos):\n",
    "            if i % 2 == 0:\n",
    "                ordered_pos.append([p])\n",
    "            else:\n",
    "                ordered_pos[-1].append(p)\n",
    "        compiled = [[mov, p] for mov, p in zip(ordered_movs, ordered_pos)]\n",
    "        \n",
    "        saved[apertura][result] += 1\n",
    "        filename = f'{path}{apertura} - {result} - n°{saved[apertura][result]}.yaml'        \n",
    "        with open(filename, \"w\", encoding=\"utf-8\") as file:\n",
    "            yaml.dump(compiled, file, allow_unicode=True, default_flow_style=False)"
   ]
  },
  {
   "cell_type": "code",
   "execution_count": 26,
   "id": "7310d6fb-0e75-4db6-8822-b80cf30c57ff",
   "metadata": {},
   "outputs": [
    {
     "name": "stdout",
     "output_type": "stream",
     "text": [
      "[['e4', 'c5'], ['Qf3', 'Nf6'], ['e5', 'Ng8'], ['Bc4', 'Nh6'], ['d3', 'e6'], ['Nh3', 'd5'], ['exd6', 'Qxd6'], ['Bf4', 'Qc6'], ['Qxc6+', 'Nxc6'], ['c3', 'Nf5'], ['g3', 'b6'], ['Bb5', 'Bd7'], ['Nd2', 'Rc8'], ['Nc4', 'e5'], ['Bxc6', 'Bxc6'], ['Bxe5', 'Bxh1'], ['O-O-O', 'Bf3'], ['Re1', 'f6'], ['Bd6+', 'Kf7'], ['Bf4', 'Rc6'], ['g4', 'Bxg4'], ['Ng1', 'g5'], ['Bg3', 'Rc8'], ['h3', 'Bh5'], ['Ne3', 'Re8'], ['Kd2', 'Nxg3'], ['fxg3', 'Bd6'], ['g4', 'Bg3'], ['Re2', 'Bg6'], ['Nf3', 'Re6'], ['Kc2', 'Rd8'], ['h4', 'Bxd3+'], ['Kd1', 'Bxe2+'], ['Kxe2', 'gxh4']]\n"
     ]
    }
   ],
   "source": [
    "import random\n",
    "\n",
    "archivos = [f for f in os.listdir(path) if os.path.isfile(os.path.join(path, f))]\n",
    "archivo_seleccionado = random.choice(archivos)\n",
    "filename = os.path.join(path, archivo_seleccionado)\n",
    "with open(filename, \"r\", encoding=\"utf-8\") as file:\n",
    "    history = yaml.safe_load(file)\n",
    "print(history)"
   ]
  },
  {
   "cell_type": "code",
   "execution_count": 23,
   "id": "1962c036-a772-4976-ac59-e42b04747ed5",
   "metadata": {
    "collapsed": true,
    "jupyter": {
     "outputs_hidden": true
    }
   },
   "outputs": [
    {
     "ename": "KeyboardInterrupt",
     "evalue": "",
     "output_type": "error",
     "traceback": [
      "\u001b[1;31m---------------------------------------------------------------------------\u001b[0m",
      "\u001b[1;31mKeyboardInterrupt\u001b[0m                         Traceback (most recent call last)",
      "Cell \u001b[1;32mIn[23], line 4\u001b[0m\n\u001b[0;32m      2\u001b[0m k \u001b[38;5;241m=\u001b[39m \u001b[38;5;241m0\u001b[39m\n\u001b[0;32m      3\u001b[0m \u001b[38;5;28;01mwhile\u001b[39;00m \u001b[38;5;28;01mTrue\u001b[39;00m:\n\u001b[1;32m----> 4\u001b[0m     partida \u001b[38;5;241m=\u001b[39m \u001b[43mchess\u001b[49m\u001b[38;5;241;43m.\u001b[39;49m\u001b[43mpgn\u001b[49m\u001b[38;5;241;43m.\u001b[39;49m\u001b[43mread_game\u001b[49m\u001b[43m(\u001b[49m\u001b[43mpgn_file\u001b[49m\u001b[43m)\u001b[49m\n\u001b[0;32m      5\u001b[0m     \u001b[38;5;28;01mif\u001b[39;00m partida \u001b[38;5;129;01mis\u001b[39;00m \u001b[38;5;28;01mNone\u001b[39;00m:\n\u001b[0;32m      6\u001b[0m         \u001b[38;5;28;01mbreak\u001b[39;00m\n",
      "File \u001b[1;32mE:\\Felpipe\\Proyectos propios\\NeuralCheck\\venv\\lib\\site-packages\\chess\\pgn.py:1748\u001b[0m, in \u001b[0;36mread_game\u001b[1;34m(handle, Visitor)\u001b[0m\n\u001b[0;32m   1746\u001b[0m \u001b[38;5;28;01mif\u001b[39;00m visitor\u001b[38;5;241m.\u001b[39mbegin_parse_san(board_stack[\u001b[38;5;241m-\u001b[39m\u001b[38;5;241m1\u001b[39m], token) \u001b[38;5;129;01mis\u001b[39;00m \u001b[38;5;129;01mnot\u001b[39;00m SKIP:\n\u001b[0;32m   1747\u001b[0m     \u001b[38;5;28;01mtry\u001b[39;00m:\n\u001b[1;32m-> 1748\u001b[0m         move \u001b[38;5;241m=\u001b[39m \u001b[43mvisitor\u001b[49m\u001b[38;5;241;43m.\u001b[39;49m\u001b[43mparse_san\u001b[49m\u001b[43m(\u001b[49m\u001b[43mboard_stack\u001b[49m\u001b[43m[\u001b[49m\u001b[38;5;241;43m-\u001b[39;49m\u001b[38;5;241;43m1\u001b[39;49m\u001b[43m]\u001b[49m\u001b[43m,\u001b[49m\u001b[43m \u001b[49m\u001b[43mtoken\u001b[49m\u001b[43m)\u001b[49m\n\u001b[0;32m   1749\u001b[0m     \u001b[38;5;28;01mexcept\u001b[39;00m \u001b[38;5;167;01mValueError\u001b[39;00m \u001b[38;5;28;01mas\u001b[39;00m error:\n\u001b[0;32m   1750\u001b[0m         visitor\u001b[38;5;241m.\u001b[39mhandle_error(error)\n",
      "File \u001b[1;32mE:\\Felpipe\\Proyectos propios\\NeuralCheck\\venv\\lib\\site-packages\\chess\\pgn.py:1121\u001b[0m, in \u001b[0;36mBaseVisitor.parse_san\u001b[1;34m(self, board, san)\u001b[0m\n\u001b[0;32m   1107\u001b[0m \u001b[38;5;28;01mdef\u001b[39;00m\u001b[38;5;250m \u001b[39m\u001b[38;5;21mparse_san\u001b[39m(\u001b[38;5;28mself\u001b[39m, board: chess\u001b[38;5;241m.\u001b[39mBoard, san: \u001b[38;5;28mstr\u001b[39m) \u001b[38;5;241m-\u001b[39m\u001b[38;5;241m>\u001b[39m chess\u001b[38;5;241m.\u001b[39mMove:\n\u001b[0;32m   1108\u001b[0m \u001b[38;5;250m    \u001b[39m\u001b[38;5;124;03m\"\"\"\u001b[39;00m\n\u001b[0;32m   1109\u001b[0m \u001b[38;5;124;03m    When the visitor is used by a parser, this is called to parse a move\u001b[39;00m\n\u001b[0;32m   1110\u001b[0m \u001b[38;5;124;03m    in standard algebraic notation.\u001b[39;00m\n\u001b[1;32m   (...)\u001b[0m\n\u001b[0;32m   1119\u001b[0m \u001b[38;5;124;03m        they can be handled for everyone.\u001b[39;00m\n\u001b[0;32m   1120\u001b[0m \u001b[38;5;124;03m    \"\"\"\u001b[39;00m\n\u001b[1;32m-> 1121\u001b[0m     \u001b[38;5;28;01mreturn\u001b[39;00m \u001b[43mboard\u001b[49m\u001b[38;5;241;43m.\u001b[39;49m\u001b[43mparse_san\u001b[49m\u001b[43m(\u001b[49m\u001b[43msan\u001b[49m\u001b[43m)\u001b[49m\n",
      "File \u001b[1;32mE:\\Felpipe\\Proyectos propios\\NeuralCheck\\venv\\lib\\site-packages\\chess\\__init__.py:3197\u001b[0m, in \u001b[0;36mBoard.parse_san\u001b[1;34m(self, san)\u001b[0m\n\u001b[0;32m   3195\u001b[0m \u001b[38;5;66;03m# Match legal moves.\u001b[39;00m\n\u001b[0;32m   3196\u001b[0m matched_move \u001b[38;5;241m=\u001b[39m \u001b[38;5;28;01mNone\u001b[39;00m\n\u001b[1;32m-> 3197\u001b[0m \u001b[38;5;28;01mfor\u001b[39;00m move \u001b[38;5;129;01min\u001b[39;00m \u001b[38;5;28mself\u001b[39m\u001b[38;5;241m.\u001b[39mgenerate_legal_moves(from_mask, to_mask):\n\u001b[0;32m   3198\u001b[0m     \u001b[38;5;28;01mif\u001b[39;00m move\u001b[38;5;241m.\u001b[39mpromotion \u001b[38;5;241m!=\u001b[39m promotion:\n\u001b[0;32m   3199\u001b[0m         \u001b[38;5;28;01mcontinue\u001b[39;00m\n",
      "File \u001b[1;32mE:\\Felpipe\\Proyectos propios\\NeuralCheck\\venv\\lib\\site-packages\\chess\\__init__.py:3716\u001b[0m, in \u001b[0;36mBoard.generate_legal_moves\u001b[1;34m(self, from_mask, to_mask)\u001b[0m\n\u001b[0;32m   3714\u001b[0m             \u001b[38;5;28;01myield\u001b[39;00m move\n\u001b[0;32m   3715\u001b[0m \u001b[38;5;28;01melse\u001b[39;00m:\n\u001b[1;32m-> 3716\u001b[0m     \u001b[38;5;28;01mfor\u001b[39;00m move \u001b[38;5;129;01min\u001b[39;00m \u001b[38;5;28mself\u001b[39m\u001b[38;5;241m.\u001b[39mgenerate_pseudo_legal_moves(from_mask, to_mask):\n\u001b[0;32m   3717\u001b[0m         \u001b[38;5;28;01mif\u001b[39;00m \u001b[38;5;28mself\u001b[39m\u001b[38;5;241m.\u001b[39m_is_safe(king, blockers, move):\n\u001b[0;32m   3718\u001b[0m             \u001b[38;5;28;01myield\u001b[39;00m move\n",
      "File \u001b[1;32mE:\\Felpipe\\Proyectos propios\\NeuralCheck\\venv\\lib\\site-packages\\chess\\__init__.py:1826\u001b[0m, in \u001b[0;36mBoard.generate_pseudo_legal_moves\u001b[1;34m(self, from_mask, to_mask)\u001b[0m\n\u001b[0;32m   1824\u001b[0m \u001b[38;5;28;01mfor\u001b[39;00m from_square \u001b[38;5;129;01min\u001b[39;00m scan_reversed(non_pawns):\n\u001b[0;32m   1825\u001b[0m     moves \u001b[38;5;241m=\u001b[39m \u001b[38;5;28mself\u001b[39m\u001b[38;5;241m.\u001b[39mattacks_mask(from_square) \u001b[38;5;241m&\u001b[39m \u001b[38;5;241m~\u001b[39mour_pieces \u001b[38;5;241m&\u001b[39m to_mask\n\u001b[1;32m-> 1826\u001b[0m     \u001b[38;5;28;01mfor\u001b[39;00m to_square \u001b[38;5;129;01min\u001b[39;00m \u001b[43mscan_reversed\u001b[49m\u001b[43m(\u001b[49m\u001b[43mmoves\u001b[49m\u001b[43m)\u001b[49m:\n\u001b[0;32m   1827\u001b[0m         \u001b[38;5;28;01myield\u001b[39;00m Move(from_square, to_square)\n\u001b[0;32m   1829\u001b[0m \u001b[38;5;66;03m# Generate castling moves.\u001b[39;00m\n",
      "\u001b[1;31mKeyboardInterrupt\u001b[0m: "
     ]
    }
   ],
   "source": [
    "with open(file_path, \"r\", encoding=\"utf-8\") as pgn_file:\n",
    "    k = 0\n",
    "    while True:\n",
    "        partida = chess.pgn.read_game(pgn_file)\n",
    "        if partida is None:\n",
    "            break\n",
    "        k += 1\n",
    "print(f'El archivo tiene {k} partidas')"
   ]
  },
  {
   "cell_type": "code",
   "execution_count": 24,
   "id": "3f6905a5-117b-43cf-b179-58a467c02f9a",
   "metadata": {},
   "outputs": [
    {
     "name": "stdout",
     "output_type": "stream",
     "text": [
      "El archivo tiene 50897 partidas\n"
     ]
    }
   ],
   "source": [
    "print(f'El archivo tiene {k} partidas')"
   ]
  },
  {
   "cell_type": "code",
   "execution_count": null,
   "id": "cffbd96f-0b88-4579-8a62-7c3ee29e0776",
   "metadata": {},
   "outputs": [],
   "source": []
  }
 ],
 "metadata": {
  "kernelspec": {
   "display_name": "Python 3 (ipykernel)",
   "language": "python",
   "name": "python3"
  },
  "language_info": {
   "codemirror_mode": {
    "name": "ipython",
    "version": 3
   },
   "file_extension": ".py",
   "mimetype": "text/x-python",
   "name": "python",
   "nbconvert_exporter": "python",
   "pygments_lexer": "ipython3",
   "version": "3.10.6"
  }
 },
 "nbformat": 4,
 "nbformat_minor": 5
}
